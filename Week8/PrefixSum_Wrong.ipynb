{
  "nbformat": 4,
  "nbformat_minor": 0,
  "metadata": {
    "colab": {
      "name": "PrefixSum_Wrong.ipynb",
      "provenance": [],
      "collapsed_sections": [],
      "authorship_tag": "ABX9TyOp08SKeWTlZWIcxn5W1+0H",
      "include_colab_link": true
    },
    "kernelspec": {
      "name": "python3",
      "display_name": "Python 3"
    },
    "language_info": {
      "name": "python"
    },
    "accelerator": "GPU"
  },
  "cells": [
    {
      "cell_type": "markdown",
      "metadata": {
        "id": "view-in-github",
        "colab_type": "text"
      },
      "source": [
        "<a href=\"https://colab.research.google.com/github/mmmovania/CUDA_Spring2022_GoogleColabs/blob/main/Week8/PrefixSum_Wrong.ipynb\" target=\"_parent\"><img src=\"https://colab.research.google.com/assets/colab-badge.svg\" alt=\"Open In Colab\"/></a>"
      ]
    },
    {
      "cell_type": "code",
      "execution_count": 1,
      "metadata": {
        "colab": {
          "base_uri": "https://localhost:8080/"
        },
        "id": "OB2MY3st-VUm",
        "outputId": "2d749a1e-b2e9-4ac6-daab-c24d9557af02"
      },
      "outputs": [
        {
          "output_type": "stream",
          "name": "stdout",
          "text": [
            "/usr/local\n",
            "  File: cuda -> /usr/local/cuda-10.1\n",
            "  Size: 20        \tBlocks: 0          IO Block: 4096   symbolic link\n",
            "Device: 24h/36d\tInode: 3538954     Links: 1\n",
            "Access: (0777/lrwxrwxrwx)  Uid: (    0/    root)   Gid: (    0/    root)\n",
            "Access: 2022-03-04 05:54:38.908958543 +0000\n",
            "Modify: 2022-03-04 05:54:38.805951244 +0000\n",
            "Change: 2022-03-04 05:54:38.805951244 +0000\n",
            " Birth: -\n",
            "Collecting git+https://github.com/andreinechaev/nvcc4jupyter.git\n",
            "  Cloning https://github.com/andreinechaev/nvcc4jupyter.git to /tmp/pip-req-build-4pmkbqzr\n",
            "  Running command git clone -q https://github.com/andreinechaev/nvcc4jupyter.git /tmp/pip-req-build-4pmkbqzr\n",
            "Building wheels for collected packages: NVCCPlugin\n",
            "  Building wheel for NVCCPlugin (setup.py) ... \u001b[?25l\u001b[?25hdone\n",
            "  Created wheel for NVCCPlugin: filename=NVCCPlugin-0.0.2-py3-none-any.whl size=4306 sha256=590b93ca945fcc6aee2f089d13ed8d0bd8473e28919de7c0bcea088cd17e26d5\n",
            "  Stored in directory: /tmp/pip-ephem-wheel-cache-tqeyark0/wheels/c5/2b/c0/87008e795a14bbcdfc7c846a00d06981916331eb980b6c8bdf\n",
            "Successfully built NVCCPlugin\n",
            "Installing collected packages: NVCCPlugin\n",
            "Successfully installed NVCCPlugin-0.0.2\n",
            "directory /usr/local/src already exists\n",
            "Out bin /usr/local/result.out\n"
          ]
        }
      ],
      "source": [
        "%cd /usr/local/\n",
        "!rm -rf cuda\n",
        "!ln -s /usr/local/cuda-10.1 /usr/local/cuda\n",
        "!stat cuda\n",
        "!pip install git+https://github.com/andreinechaev/nvcc4jupyter.git\n",
        "%load_ext nvcc_plugin"
      ]
    },
    {
      "cell_type": "code",
      "source": [
        "%%cu\n",
        "#include <stdio.h>\n",
        "\n",
        "#define SECTION_SIZE 4 \n",
        "\n",
        "inline cudaError_t checkCudaErr(cudaError_t err, const char* msg) {\n",
        "  if (err != cudaSuccess) {\n",
        "    fprintf(stderr, \"CUDA Runtime error at %s: %s\\n\", msg, cudaGetErrorString(err));\n",
        "  }\n",
        "  return err;\n",
        "}\n",
        "\n",
        "//CPU version\n",
        "void sequential_scan(float* x, float* y, int N) \n",
        "{\n",
        "  y[0]=x[0]; \n",
        "  for (int i=1; i < N; i++)\n",
        "  {\n",
        "    y[i]= y [i-1] + x[i]; \n",
        "  }\n",
        "}\n",
        "\n",
        "__global__ void work_inefficient_inc_scan_kernel(float *X, float *Y, int N) {\n",
        "  __shared__ float XY[4]; \n",
        "  int i = blockIdx.x*blockDim.x + threadIdx.x; \n",
        "  if (i < N) { \n",
        "    XY[threadIdx.x] = X[i]; \n",
        "  }\n",
        "\n",
        "  // the code below performs iterative scan on XY \n",
        "  for (unsigned int stride=1; stride<=threadIdx.x; stride*= 2) \n",
        "  { \n",
        "    __syncthreads(); \n",
        "    XY[threadIdx.x] += XY[threadIdx.x-stride]; \n",
        "  }\n",
        "  Y[i] = XY[threadIdx.x];\n",
        "}\n",
        "\n",
        "   \n",
        "int main() { \n",
        "\t\tfloat   *X, *Y; \n",
        "    const int N = 16; \n",
        "    const int threadsPerBlock = SECTION_SIZE;\n",
        "    const int blocksPerGrid =  (N / threadsPerBlock);\n",
        "\n",
        "    // Allocate Unified Memory -- accessible from CPU or GPU\n",
        "    checkCudaErr(cudaMallocManaged(&X, N*sizeof(float)), \"cudaMallocManaged1\");\n",
        "    checkCudaErr(cudaMallocManaged(&Y, N*sizeof(float)), \"cudaMallocManaged2\"); \n",
        "     \n",
        "    // fill in the memory with data\n",
        "    for (int i=0; i<N; i++) \n",
        "    {\n",
        "        X[i] = i+1;\n",
        "        Y[i] = 0; \n",
        "    }  \n",
        "  \n",
        "    // Prefetch the data to the GPU\n",
        "    int device = -1;\n",
        "    cudaGetDevice(&device);\n",
        "    cudaMemPrefetchAsync(X, N*sizeof(float), device, NULL);\n",
        "    cudaMemPrefetchAsync(Y, N*sizeof(float), device, NULL);\n",
        "    \n",
        "    cudaEvent_t start, stop;\n",
        "    float gpu_elapsed_time_ms=0, cpu_elapsed_time_ms=0;\n",
        "    cudaEventCreate(&start);\n",
        "    cudaEventCreate(&stop);\n",
        " \n",
        "    ////lets time the CPU code\n",
        "    cudaEventRecord(start, 0);\n",
        "    sequential_scan(X, Y, N);\n",
        "    cudaEventRecord(stop, 0);\n",
        "    cudaEventSynchronize(stop);\n",
        "    cudaEventElapsedTime(&cpu_elapsed_time_ms, start, stop);\n",
        "\n",
        "    //reset Y for GPU\n",
        "    for (int i=0; i<N; i++) \n",
        "    {         \n",
        "        Y[i] = 0; \n",
        "    }  \n",
        "\n",
        "    //lets time the GPU code  \n",
        "    cudaEventRecord(start, 0);\n",
        "    work_inefficient_inc_scan_kernel<<<blocksPerGrid,threadsPerBlock>>>(X, Y, N);\n",
        "    cudaDeviceSynchronize();\n",
        "  \n",
        "    // time counting terminate\n",
        "    cudaEventRecord(stop, 0);\n",
        "    cudaEventSynchronize(stop);\n",
        "\n",
        "    // compute time elapse on GPU computing\n",
        "    cudaEventElapsedTime(&gpu_elapsed_time_ms, start, stop);\n",
        "\n",
        "    //output the result\n",
        "    puts(\"Prefix Scan Results:\");\n",
        "    printf(\"CPU Time: %3.3f msecs, GPU Time: %3.3f\\n\",cpu_elapsed_time_ms, gpu_elapsed_time_ms);\n",
        "    puts(\"X[i]\\t| Y[i]\");\n",
        "    puts(\"--------+-------\");\n",
        "\n",
        "    for(int i=0; i<N; ++i)\n",
        "      printf(\"%3.0f\\t| %3.0f\\n\", X[i], Y[i]);\n",
        "\n",
        "    // free memory on the gpu side\n",
        "    checkCudaErr( cudaFree( X ) , \"cudaFree1\");\n",
        "    checkCudaErr( cudaFree( Y ) , \"cudaFree2\"); \n",
        "\t\tcheckCudaErr( cudaDeviceReset(), \"cudaDeviceReset\");\n",
        "\n",
        "\t\treturn 0;\n",
        "}"
      ],
      "metadata": {
        "colab": {
          "base_uri": "https://localhost:8080/"
        },
        "id": "GYZ627HO-XKd",
        "outputId": "6418a377-1bea-47d4-abc0-23b394c27a76"
      },
      "execution_count": 24,
      "outputs": [
        {
          "output_type": "stream",
          "name": "stdout",
          "text": [
            "Prefix Scan Results:\n",
            "CPU Time: 0.016 msecs, GPU Time: 0.207\n",
            "X[i]\t| Y[i]\n",
            "--------+-------\n",
            "  1\t|   1\n",
            "  2\t|   3\n",
            "  3\t|   6\n",
            "  4\t|  10\n",
            "  5\t|   6\n",
            "  6\t|  12\n",
            "  7\t|  19\n",
            "  8\t|  32\n",
            "  9\t|  15\n",
            " 10\t|  25\n",
            " 11\t|  36\n",
            " 12\t|  57\n",
            " 13\t|  28\n",
            " 14\t|  42\n",
            " 15\t|  57\n",
            " 16\t|  86\n",
            "\n"
          ]
        }
      ]
    }
  ]
}
