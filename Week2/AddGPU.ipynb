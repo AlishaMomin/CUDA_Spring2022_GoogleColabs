{
  "nbformat": 4,
  "nbformat_minor": 0,
  "metadata": {
    "colab": {
      "name": "AddGPU.ipynb",
      "provenance": [],
      "collapsed_sections": [],
      "authorship_tag": "ABX9TyMSdz41M0PDVEQbl1WmvNRl",
      "include_colab_link": true
    },
    "kernelspec": {
      "name": "python3",
      "display_name": "Python 3"
    },
    "language_info": {
      "name": "python"
    },
    "accelerator": "GPU"
  },
  "cells": [
    {
      "cell_type": "markdown",
      "metadata": {
        "id": "view-in-github",
        "colab_type": "text"
      },
      "source": [
        "<a href=\"https://colab.research.google.com/github/mmmovania/CUDA_Spring2022_GoogleColabs/blob/main/Week2/AddGPU.ipynb\" target=\"_parent\"><img src=\"https://colab.research.google.com/assets/colab-badge.svg\" alt=\"Open In Colab\"/></a>"
      ]
    },
    {
      "cell_type": "code",
      "execution_count": 1,
      "metadata": {
        "colab": {
          "base_uri": "https://localhost:8080/"
        },
        "id": "LraUoP1_8GxK",
        "outputId": "4032b958-ddee-4b01-9880-2a83db890fcb"
      },
      "outputs": [
        {
          "output_type": "stream",
          "name": "stdout",
          "text": [
            "/usr/local\n",
            "  File: cuda -> /usr/local/cuda-10.1\n",
            "  Size: 20        \tBlocks: 0          IO Block: 4096   symbolic link\n",
            "Device: 24h/36d\tInode: 100         Links: 1\n",
            "Access: (0777/lrwxrwxrwx)  Uid: (    0/    root)   Gid: (    0/    root)\n",
            "Access: 2022-01-10 17:02:27.867597510 +0000\n",
            "Modify: 2022-01-10 17:02:27.758597720 +0000\n",
            "Change: 2022-01-10 17:02:27.759597718 +0000\n",
            " Birth: -\n",
            "Collecting git+https://github.com/andreinechaev/nvcc4jupyter.git\n",
            "  Cloning https://github.com/andreinechaev/nvcc4jupyter.git to /tmp/pip-req-build-jcxkwsv7\n",
            "  Running command git clone -q https://github.com/andreinechaev/nvcc4jupyter.git /tmp/pip-req-build-jcxkwsv7\n",
            "Building wheels for collected packages: NVCCPlugin\n",
            "  Building wheel for NVCCPlugin (setup.py) ... \u001b[?25l\u001b[?25hdone\n",
            "  Created wheel for NVCCPlugin: filename=NVCCPlugin-0.0.2-py3-none-any.whl size=4305 sha256=73fe2581dce991bfd7b8d45445f7ea9cac8b69e062359943d92d206743c29fc8\n",
            "  Stored in directory: /tmp/pip-ephem-wheel-cache-s19gt9to/wheels/c5/2b/c0/87008e795a14bbcdfc7c846a00d06981916331eb980b6c8bdf\n",
            "Successfully built NVCCPlugin\n",
            "Installing collected packages: NVCCPlugin\n",
            "Successfully installed NVCCPlugin-0.0.2\n",
            "directory /usr/local/src already exists\n",
            "Out bin /usr/local/result.out\n"
          ]
        }
      ],
      "source": [
        "%cd /usr/local/\n",
        "!rm -rf cuda\n",
        "!ln -s /usr/local/cuda-10.1 /usr/local/cuda\n",
        "!stat cuda\n",
        "!pip install git+https://github.com/andreinechaev/nvcc4jupyter.git\n",
        "%load_ext nvcc_plugin"
      ]
    },
    {
      "cell_type": "code",
      "source": [
        "%%cu\n",
        "#include <stdio.h>\n",
        "#include <stdlib.h>\n",
        "inline cudaError_t checkCudaErr(cudaError_t err, const char* msg) {\n",
        "  if (err != cudaSuccess) {\n",
        "    fprintf(stderr, \"CUDA Runtime error at %s: %s\\n\", msg, cudaGetErrorString(err));\n",
        "  }\n",
        "  return err;\n",
        "}\n",
        "\n",
        "//kernel function definition\n",
        "__global__ void add(int *a , int *b, int *c) \n",
        "{\n",
        "  *c = *a + *b;\n",
        "}\n",
        "\n",
        "int main() {\n",
        "  int h_a = 10;\n",
        "  int h_b = 20;\n",
        "  int h_c = 10+20;\n",
        "\n",
        "  int *d_a, *d_b, *d_c;\n",
        "\n",
        "  //allocate memory on device\n",
        "  cudaMalloc((void **)&d_a, sizeof(int));\n",
        "  cudaMalloc((void **)&d_b, sizeof(int));\n",
        "  cudaMalloc((void **)&d_c, sizeof(int));\n",
        "\n",
        "  //copy host data to device memory\n",
        "  cudaMemcpy(d_a, &h_a, sizeof(int), cudaMemcpyHostToDevice);\n",
        "  cudaMemcpy(d_b, &h_b, sizeof(int), cudaMemcpyHostToDevice);\n",
        "  \n",
        "  //call kernel\n",
        "  add<<<1,1>>>(d_a, d_b, d_c); \n",
        "\n",
        "  checkCudaErr(cudaDeviceSynchronize(), \"Syncronization\");\n",
        "  checkCudaErr(cudaGetLastError(), \"GPU\");\n",
        "  printf(\"Answer (on host): %d\\n\", h_c);\n",
        "\n",
        "  //copy device data to host memory\n",
        "  cudaMemcpy(&h_c, d_c, sizeof(int), cudaMemcpyDeviceToHost);\n",
        "  printf(\"Answer (on device): %d\", h_c);\n",
        "\n",
        "  //release GPU memory\n",
        "  cudaFree(d_a);\n",
        "  cudaFree(d_b);\n",
        "  cudaFree(d_c);\n",
        "  \n",
        "  return 0;\n",
        "}"
      ],
      "metadata": {
        "colab": {
          "base_uri": "https://localhost:8080/"
        },
        "id": "pPxxyrjx8Hwz",
        "outputId": "835a3bc3-0510-44a9-a5c4-e445af28447f"
      },
      "execution_count": 4,
      "outputs": [
        {
          "output_type": "stream",
          "name": "stdout",
          "text": [
            "Answer (on host): 30\n",
            "Answer (on device): 30\n"
          ]
        }
      ]
    }
  ]
}
