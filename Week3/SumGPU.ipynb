{
  "nbformat": 4,
  "nbformat_minor": 0,
  "metadata": {
    "colab": {
      "name": "SumGPU.ipynb",
      "provenance": [],
      "collapsed_sections": [],
      "authorship_tag": "ABX9TyO8J5rgXfwpDDgXDYDZHiSk",
      "include_colab_link": true
    },
    "kernelspec": {
      "name": "python3",
      "display_name": "Python 3"
    },
    "language_info": {
      "name": "python"
    },
    "accelerator": "GPU"
  },
  "cells": [
    {
      "cell_type": "markdown",
      "metadata": {
        "id": "view-in-github",
        "colab_type": "text"
      },
      "source": [
        "<a href=\"https://colab.research.google.com/github/mmmovania/CUDA_Spring2022_GoogleColabs/blob/main/Week3/SumGPU.ipynb\" target=\"_parent\"><img src=\"https://colab.research.google.com/assets/colab-badge.svg\" alt=\"Open In Colab\"/></a>"
      ]
    },
    {
      "cell_type": "code",
      "execution_count": 1,
      "metadata": {
        "colab": {
          "base_uri": "https://localhost:8080/"
        },
        "id": "OB2MY3st-VUm",
        "outputId": "cf35561a-6415-45e7-b410-1a17766f5e99"
      },
      "outputs": [
        {
          "output_type": "stream",
          "name": "stdout",
          "text": [
            "/usr/local\n",
            "  File: cuda -> /usr/local/cuda-10.1\n",
            "  Size: 20        \tBlocks: 0          IO Block: 4096   symbolic link\n",
            "Device: 24h/36d\tInode: 106         Links: 1\n",
            "Access: (0777/lrwxrwxrwx)  Uid: (    0/    root)   Gid: (    0/    root)\n",
            "Access: 2022-01-10 17:12:54.298681814 +0000\n",
            "Modify: 2022-01-10 17:12:54.189681484 +0000\n",
            "Change: 2022-01-10 17:12:54.189681484 +0000\n",
            " Birth: -\n",
            "Collecting git+https://github.com/andreinechaev/nvcc4jupyter.git\n",
            "  Cloning https://github.com/andreinechaev/nvcc4jupyter.git to /tmp/pip-req-build-xqon44ki\n",
            "  Running command git clone -q https://github.com/andreinechaev/nvcc4jupyter.git /tmp/pip-req-build-xqon44ki\n",
            "Building wheels for collected packages: NVCCPlugin\n",
            "  Building wheel for NVCCPlugin (setup.py) ... \u001b[?25l\u001b[?25hdone\n",
            "  Created wheel for NVCCPlugin: filename=NVCCPlugin-0.0.2-py3-none-any.whl size=4305 sha256=5abdc954d328a2764b1ea45165cddc62c83bd3af90cf78f579f4f2e2d30acd71\n",
            "  Stored in directory: /tmp/pip-ephem-wheel-cache-xu8_ilkn/wheels/c5/2b/c0/87008e795a14bbcdfc7c846a00d06981916331eb980b6c8bdf\n",
            "Successfully built NVCCPlugin\n",
            "Installing collected packages: NVCCPlugin\n",
            "Successfully installed NVCCPlugin-0.0.2\n",
            "directory /usr/local/src already exists\n",
            "Out bin /usr/local/result.out\n"
          ]
        }
      ],
      "source": [
        "%cd /usr/local/\n",
        "!rm -rf cuda\n",
        "!ln -s /usr/local/cuda-10.1 /usr/local/cuda\n",
        "!stat cuda\n",
        "!pip install git+https://github.com/andreinechaev/nvcc4jupyter.git\n",
        "%load_ext nvcc_plugin"
      ]
    },
    {
      "cell_type": "code",
      "source": [
        "%%cu\n",
        "#include <stdio.h>\n",
        "\n",
        "__global__ void sum(int* a, int* b, int* c, const int N) {\n",
        "\tint i = threadIdx.x + blockDim.x * blockIdx.x;\n",
        "\tif (i<N)\n",
        "\t\tc[i] = a[i] + b[i];\t\n",
        "\t//else \n",
        "\t//\tprintf(\"i > N -> %3d in block: %d\\n\", i, blockIdx.x);\n",
        "}\n",
        "\n",
        "void sum_host(int* a, int* b, int* c, const int N) {\n",
        "\tfor(int i=0; i<N; ++i)\n",
        "\t\tc[i] = a[i] + b[i];\t\n",
        "}\n",
        "\n",
        "\n",
        "int main() { \n",
        "\tint* h_a = 0;\n",
        "\tint* h_b = 0;\n",
        "\tint* h_c = 0;\n",
        "\t\n",
        "\tint* d_a = 0;\n",
        "\tint* d_b = 0;\n",
        "\tint* d_c = 0;\n",
        "\n",
        "\tconst int N = 2048;\n",
        "\tint numThreadsPerBlock =  128;\n",
        "\tint numBlocksPerGrid = ceilf(N/numThreadsPerBlock + 1);\n",
        "\tprintf(\"Num threads per block: %3d\\n\", numThreadsPerBlock);\n",
        "\tprintf(\"Num blocks per grid: %3d\\n\", numBlocksPerGrid);\n",
        "\n",
        "\tsize_t size = N * sizeof(int);\n",
        "\n",
        "\t//allocate host memory\n",
        "\th_a = (int*)malloc(size);\t \n",
        "\th_b = (int*)malloc(size);\t \n",
        "\th_c = (int*)malloc(size);\t \n",
        "\n",
        "\t//initialize a, b and c\n",
        "\tfor(int i=0;i<N;++i) {\n",
        "\t\th_a[i] = i+1;\n",
        "\t\th_b[i] = h_a[i]*2;\n",
        "\t\th_c[i] = 0;\n",
        "\t}\n",
        "\n",
        "\t//allocate device memory \n",
        "\tcudaMalloc((void**)&d_a, size);\n",
        "\tcudaMalloc((void**)&d_b, size);\n",
        "\tcudaMalloc((void**)&d_c, size);\n",
        "\t\n",
        "\t//copy host data to device memory\n",
        "\tcudaMemcpy(d_a, h_a, size, cudaMemcpyHostToDevice); \n",
        "\tcudaMemcpy(d_b, h_b, size, cudaMemcpyHostToDevice);\n",
        "\n",
        "\t//calculate on host \n",
        "\tsum_host(h_a, h_b, h_c, N); \n",
        "\tprintf(\"Sum (host): %d\\n\", h_c); \n",
        "  \n",
        "\t//output result\n",
        "\t/*\n",
        "\tprintf(\"Host calculation result: \\n\");\n",
        "\tfor(int i=0;i<N;++i) {\n",
        "\t\tprintf(\"%3d + %3d = %3d\\n\", h_a[i], h_b[i], h_c[i]);\n",
        "\t\t//clear host result to ensure that the result of device is actually from the kernel\n",
        "\t\th_c[i] = 0;\n",
        "\t}\n",
        "\t*/\n",
        "\n",
        "\t//calculate on device\n",
        "\tsum<<<numBlocksPerGrid, numThreadsPerBlock>>>(d_a, d_b, d_c, N);\n",
        "\n",
        "\t//copy result from device to host\n",
        "\tcudaMemcpy(h_c, d_c, size, cudaMemcpyDeviceToHost);\n",
        "\n",
        "  printf(\"Sum (device): %d\\n\", h_c);\n",
        "\n",
        "\t//output result\n",
        "\t/*\n",
        "\tprintf(\"--------------------------------------\\n\");\n",
        "\tprintf(\"Device calculation result: \\n\");\n",
        "\tfor(int i=0;i<N;++i) {\n",
        "\t\tprintf(\"%3d + %3d = %3d\\n\", h_a[i], h_b[i], h_c[i]);\n",
        "\t}\n",
        "\tprintf(\"--------------------------------------\\n\");\n",
        "\t*/\n",
        " \n",
        "\n",
        "\t//delete data allocated on device\n",
        "\tcudaFree(d_a);\n",
        "\tcudaFree(d_b);\n",
        "\tcudaFree(d_c);\n",
        "\n",
        "\t//delete host memory\n",
        "\tfree(h_a);\n",
        "\tfree(h_b);\n",
        "\tfree(h_c);\n",
        "\n",
        "\tcudaDeviceReset();\n",
        "\treturn 0;\n",
        "}"
      ],
      "metadata": {
        "colab": {
          "base_uri": "https://localhost:8080/"
        },
        "id": "GYZ627HO-XKd",
        "outputId": "359e6b00-5dab-4672-efab-20743c175acd"
      },
      "execution_count": 8,
      "outputs": [
        {
          "output_type": "stream",
          "name": "stdout",
          "text": [
            "Num threads per block: 128\n",
            "Num blocks per grid:  17\n",
            "Sum (host): 1877032960\n",
            "Sum (device): 1877032960\n",
            "\n"
          ]
        }
      ]
    }
  ]
}
