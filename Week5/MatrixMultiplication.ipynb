{
  "nbformat": 4,
  "nbformat_minor": 0,
  "metadata": {
    "colab": {
      "name": "MatrixMultiplication.ipynb",
      "provenance": [],
      "collapsed_sections": [],
      "authorship_tag": "ABX9TyPeQmlTlsyvqYCMmVmppy0u",
      "include_colab_link": true
    },
    "kernelspec": {
      "name": "python3",
      "display_name": "Python 3"
    },
    "language_info": {
      "name": "python"
    },
    "accelerator": "GPU"
  },
  "cells": [
    {
      "cell_type": "markdown",
      "metadata": {
        "id": "view-in-github",
        "colab_type": "text"
      },
      "source": [
        "<a href=\"https://colab.research.google.com/github/mmmovania/CUDA_Spring2022_GoogleColabs/blob/main/Week5/MatrixMultiplication.ipynb\" target=\"_parent\"><img src=\"https://colab.research.google.com/assets/colab-badge.svg\" alt=\"Open In Colab\"/></a>"
      ]
    },
    {
      "cell_type": "code",
      "execution_count": null,
      "metadata": {
        "colab": {
          "base_uri": "https://localhost:8080/"
        },
        "id": "-YhC1zB4-2ST",
        "outputId": "4592a773-a5fe-4f9a-81ea-d907c425a40b"
      },
      "outputs": [
        {
          "output_type": "stream",
          "name": "stdout",
          "text": [
            "/usr/local\n",
            "  File: cuda -> /usr/local/cuda-10.1\n",
            "  Size: 20        \tBlocks: 0          IO Block: 4096   symbolic link\n",
            "Device: 24h/36d\tInode: 3145740     Links: 1\n",
            "Access: (0777/lrwxrwxrwx)  Uid: (    0/    root)   Gid: (    0/    root)\n",
            "Access: 2022-02-04 04:43:58.278274999 +0000\n",
            "Modify: 2022-02-04 04:43:58.167275204 +0000\n",
            "Change: 2022-02-04 04:43:58.167275204 +0000\n",
            " Birth: -\n",
            "Collecting git+git://github.com/andreinechaev/nvcc4jupyter.git\n",
            "  Cloning git://github.com/andreinechaev/nvcc4jupyter.git to /tmp/pip-req-build-v2u4cety\n",
            "  Running command git clone -q git://github.com/andreinechaev/nvcc4jupyter.git /tmp/pip-req-build-v2u4cety\n",
            "Building wheels for collected packages: NVCCPlugin\n",
            "  Building wheel for NVCCPlugin (setup.py) ... \u001b[?25l\u001b[?25hdone\n",
            "  Created wheel for NVCCPlugin: filename=NVCCPlugin-0.0.2-py3-none-any.whl size=4306 sha256=1a5ac0771015358159482d68ab1075ac0e1506cdbf935bab62957f0153ca6bc7\n",
            "  Stored in directory: /tmp/pip-ephem-wheel-cache-8gwtkj_t/wheels/c5/2b/c0/87008e795a14bbcdfc7c846a00d06981916331eb980b6c8bdf\n",
            "Successfully built NVCCPlugin\n",
            "Installing collected packages: NVCCPlugin\n",
            "Successfully installed NVCCPlugin-0.0.2\n",
            "directory /usr/local/src already exists\n",
            "Out bin /usr/local/result.out\n"
          ]
        }
      ],
      "source": [
        "#prepare setup of cuda plugin for jupyter notebook\n",
        "%cd /usr/local/\n",
        "!rm -rf cuda\n",
        "!ln -s /usr/local/cuda-10.1 /usr/local/cuda\n",
        "!stat cuda\n",
        "!pip install git+git://github.com/andreinechaev/nvcc4jupyter.git\n",
        "%load_ext nvcc_plugin"
      ]
    },
    {
      "cell_type": "code",
      "source": [
        "%%cu\n",
        "#include <stdio.h>\n",
        "#include <cuda.h>\n",
        "\n",
        "__global__ void MatrixMulKernel(float* d_M, float* d_N, float* d_P, int Width) {\n",
        "\t// Calculate the row index of the d_Pelement and d_M\n",
        "\tint Row = blockIdx.y*blockDim.y+threadIdx.y;\n",
        "\t// Calculate the column index of d_P and d_N\n",
        "\tint Col = blockIdx.x*blockDim.x+threadIdx.x;\n",
        "\tif ((Row < Width) && (Col < Width)) {\n",
        "\t\tfloat Pvalue = 0;\n",
        "\t\t// each thread computes one element of the block sub-matrix\n",
        "\t\tfor (int k = 0; k < Width; ++k) {\n",
        "\t\t\tPvalue += d_M[Row*Width+k]*d_N[k*Width+Col];\n",
        "\t\t}\n",
        "\t\td_P[Row*Width+Col] = Pvalue;\n",
        "\t}\n",
        "}\n",
        "\n",
        "void MatrixMultHost(float* A, float* B, float* C, int N)\n",
        "{\n",
        "\tfor (int i = 0; i < N; ++i)\n",
        "\t{\n",
        "\t\tfor (int j = 0; j < N; ++j)\n",
        "\t\t{\n",
        "\t\t\tfloat Pvalue = 0;\n",
        "\t\t\tfor (int k = 0; k < N; ++k)\n",
        "\t\t\t{\n",
        "\t\t\t\tPvalue += A[i*N + k] * B[k*N + j];\n",
        "\t\t\t}\n",
        "\t\t\tC[j + i*N] = Pvalue;\n",
        "\t\t}\n",
        "\t}\n",
        "}\n",
        "\n",
        "int main(int argc, char** argv)\n",
        "{\n",
        "\tconst int N = 4;\n",
        "\tconst int SIZE = N*N;\n",
        "\tconst int SIZE_IN_BYTES = SIZE * sizeof(float);\n",
        "\n",
        "\tfloat* h_A = (float*)malloc(SIZE_IN_BYTES);\n",
        "\tfloat* h_B = (float*)malloc(SIZE_IN_BYTES);\n",
        "\tfloat* h_C = (float*)malloc(SIZE_IN_BYTES);\n",
        "\tfloat* h_CD = (float*)malloc(SIZE_IN_BYTES); //device calc res\n",
        "\n",
        "\t// Initialize matrices on the host\n",
        "\tfor (int i = 0; i < N; i++) {\n",
        "\t\t for (int j = 0; j < N; j++) {\n",
        "\t\t\t h_A[i*N + j] = (float) (rand() % 1024);\n",
        "\t\t\t h_B[i*N + j] = (float) (rand() % 1024);\n",
        "\t\t }\n",
        "\t}\n",
        "\n",
        "\tfloat* d_A;\n",
        "\tfloat* d_B;\n",
        "\tfloat* d_C;\n",
        "\n",
        "\tcudaMalloc(&d_A, SIZE_IN_BYTES);\n",
        "\tcudaMalloc(&d_B, SIZE_IN_BYTES);\n",
        "\tcudaMalloc(&d_C, SIZE_IN_BYTES);\n",
        "\n",
        "\tcudaMemcpy(d_A, h_A, SIZE_IN_BYTES, cudaMemcpyHostToDevice);\n",
        "\tcudaMemcpy(d_B, h_B, SIZE_IN_BYTES, cudaMemcpyHostToDevice);\n",
        "\n",
        "\tdim3    blocksGrid;\n",
        "\tdim3    threadsBlock(16, 16, 1);\n",
        "\n",
        "\tblocksGrid.x = (N + threadsBlock.x - 1) / threadsBlock.x;\n",
        "\tblocksGrid.y = (N + threadsBlock.y - 1) / threadsBlock.y;\n",
        "\n",
        "\tfloat gpu_elapsed_time_ms, cpu_elapsed_time_ms;\n",
        "\n",
        "\t// some events to count the execution time\n",
        "\tcudaEvent_t start, stop;\n",
        "\tcudaEventCreate(&start);\n",
        "\tcudaEventCreate(&stop);\n",
        "\n",
        "\t// start to count execution time of GPU version\n",
        "\tcudaEventRecord(start, 0);\n",
        "\n",
        "\tMatrixMulKernel << <blocksGrid, threadsBlock >> > (d_A, d_B, d_C, N);\n",
        "\n",
        "\tcudaMemcpy(h_CD, d_C, SIZE_IN_BYTES, cudaMemcpyDeviceToHost);\n",
        "\t \n",
        "\t// time counting terminate\n",
        "\tcudaEventRecord(stop, 0);\n",
        "\tcudaEventSynchronize(stop);\n",
        "\n",
        "\t// compute time elapse on GPU computing\n",
        "\tcudaEventElapsedTime(&gpu_elapsed_time_ms, start, stop);\n",
        "\tprintf(\"Time elapsed (GPU): %f ms.\\n\", gpu_elapsed_time_ms);\n",
        "\n",
        "\t// start the CPU version\n",
        "\tcudaEventRecord(start, 0);\n",
        "\tMatrixMultHost(h_A, h_B, h_C, N);\n",
        "\n",
        "\tcudaEventRecord(stop, 0);\n",
        "\tcudaEventSynchronize(stop);\n",
        "\tcudaEventElapsedTime(&cpu_elapsed_time_ms, start, stop);\n",
        "\tprintf(\"Time elapsed (CPU): %f ms.\\n\", cpu_elapsed_time_ms);\n",
        "\n",
        "\t//validate results \n",
        "\t// validate results computed by GPU\n",
        "\tint all_ok = 1;\n",
        "\tfor (int i = 0; i < N; ++i)\n",
        "\t{\n",
        "\t\tfor (int j = 0; j < N; ++j)\n",
        "\t\t{ \n",
        "\t\t\tif (h_C[j*N + i] != h_CD[j*N + i])\n",
        "\t\t\t{\n",
        "\t\t\t\tall_ok = 0;\n",
        "\t\t\t}\n",
        "\t\t} \n",
        "\t}\n",
        "\n",
        "\t// roughly compute speedup\n",
        "\tif (all_ok)\n",
        "\t{\n",
        "\t\tprintf(\"All results are correct!!!, speedup = %f\\n\", cpu_elapsed_time_ms / gpu_elapsed_time_ms);\n",
        "\t}\n",
        "\telse\n",
        "\t{\n",
        "\t\tprintf(\"incorrect results\\n\");\n",
        "\t}\n",
        "\n",
        "\n",
        "\tfree(h_A);\n",
        "\tfree(h_B);\n",
        "\tfree(h_C);\n",
        "\tfree(h_CD);\n",
        "\n",
        "\tcudaFree(&d_A);\n",
        "\tcudaFree(&d_B);\n",
        "\tcudaFree(&d_C);\n",
        "\n",
        "\tcudaDeviceReset();\n",
        "\treturn 0;\n",
        "}"
      ],
      "metadata": {
        "colab": {
          "base_uri": "https://localhost:8080/"
        },
        "id": "N6OBCDHlAcrD",
        "outputId": "85e5a8af-1a03-463c-8e5a-fa3a11957643"
      },
      "execution_count": null,
      "outputs": [
        {
          "output_type": "stream",
          "name": "stdout",
          "text": [
            "Time elapsed (GPU): 0.189152 ms.\n",
            "Time elapsed (CPU): 0.003264 ms.\n",
            "All results are correct!!!, speedup = 0.017256\n",
            "\n"
          ]
        }
      ]
    },
    {
      "cell_type": "code",
      "source": [
        ""
      ],
      "metadata": {
        "id": "wt-bzjfj-cs4"
      },
      "execution_count": null,
      "outputs": []
    }
  ]
}