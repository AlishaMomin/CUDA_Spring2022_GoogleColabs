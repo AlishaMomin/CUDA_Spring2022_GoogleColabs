{
  "nbformat": 4,
  "nbformat_minor": 0,
  "metadata": {
    "colab": {
      "name": "Conv1D.ipynb",
      "provenance": [],
      "collapsed_sections": [],
      "authorship_tag": "ABX9TyNXV0yfbIjkUw15pIfGqtbX",
      "include_colab_link": true
    },
    "kernelspec": {
      "name": "python3",
      "display_name": "Python 3"
    },
    "language_info": {
      "name": "python"
    },
    "accelerator": "GPU"
  },
  "cells": [
    {
      "cell_type": "markdown",
      "metadata": {
        "id": "view-in-github",
        "colab_type": "text"
      },
      "source": [
        "<a href=\"https://colab.research.google.com/github/mmmovania/CUDA_Spring2022_GoogleColabs/blob/main/Week7/Conv1D.ipynb\" target=\"_parent\"><img src=\"https://colab.research.google.com/assets/colab-badge.svg\" alt=\"Open In Colab\"/></a>"
      ]
    },
    {
      "cell_type": "code",
      "execution_count": 1,
      "metadata": {
        "colab": {
          "base_uri": "https://localhost:8080/"
        },
        "id": "OB2MY3st-VUm",
        "outputId": "25cdd6e0-28cd-4c5d-e820-bf1ea8b8367d"
      },
      "outputs": [
        {
          "output_type": "stream",
          "name": "stdout",
          "text": [
            "/usr/local\n",
            "  File: cuda -> /usr/local/cuda-10.1\n",
            "  Size: 20        \tBlocks: 0          IO Block: 4096   symbolic link\n",
            "Device: 24h/36d\tInode: 2883587     Links: 1\n",
            "Access: (0777/lrwxrwxrwx)  Uid: (    0/    root)   Gid: (    0/    root)\n",
            "Access: 2022-03-02 11:33:09.499349030 +0000\n",
            "Modify: 2022-03-02 11:33:09.390349037 +0000\n",
            "Change: 2022-03-02 11:33:09.390349037 +0000\n",
            " Birth: -\n",
            "Collecting git+git://github.com/andreinechaev/nvcc4jupyter.git\n",
            "  Cloning git://github.com/andreinechaev/nvcc4jupyter.git to /tmp/pip-req-build-v_uf55nc\n",
            "  Running command git clone -q git://github.com/andreinechaev/nvcc4jupyter.git /tmp/pip-req-build-v_uf55nc\n",
            "Building wheels for collected packages: NVCCPlugin\n",
            "  Building wheel for NVCCPlugin (setup.py) ... \u001b[?25l\u001b[?25hdone\n",
            "  Created wheel for NVCCPlugin: filename=NVCCPlugin-0.0.2-py3-none-any.whl size=4306 sha256=652213f3a316cf885994245fb57bc91386c30d789c0dc6773e183e061a316df2\n",
            "  Stored in directory: /tmp/pip-ephem-wheel-cache-6r98wlzz/wheels/c5/2b/c0/87008e795a14bbcdfc7c846a00d06981916331eb980b6c8bdf\n",
            "Successfully built NVCCPlugin\n",
            "Installing collected packages: NVCCPlugin\n",
            "Successfully installed NVCCPlugin-0.0.2\n",
            "directory /usr/local/src already exists\n",
            "Out bin /usr/local/result.out\n"
          ]
        }
      ],
      "source": [
        "%cd /usr/local/\n",
        "!rm -rf cuda\n",
        "!ln -s /usr/local/cuda-10.1 /usr/local/cuda\n",
        "!stat cuda\n",
        "!pip install git+git://github.com/andreinechaev/nvcc4jupyter.git\n",
        "%load_ext nvcc_plugin"
      ]
    },
    {
      "cell_type": "code",
      "source": [
        "%%cu\n",
        "#include <stdio.h>\n",
        "\n",
        "\n",
        "inline cudaError_t checkCudaErr(cudaError_t err, const char* msg) {\n",
        "  if (err != cudaSuccess) {\n",
        "    fprintf(stderr, \"CUDA Runtime error at %s: %s\\n\", msg, cudaGetErrorString(err));\n",
        "  }\n",
        "  return err;\n",
        "}\n",
        "\n",
        "__global__ void convolution_1D_basic_kernel(float* N, float* M, float* P, \n",
        "                                            int Mask_Width, int Width)\n",
        "{ \n",
        "  int i = blockIdx.x*blockDim.x+threadIdx.x; \n",
        "  float Pvalue=0; \n",
        "  int N_start_point = i-Mask_Width/2; \n",
        "  for (int j=0; j<Mask_Width; j++) \n",
        "  {\n",
        "    if(N_start_point+j>=0 && N_start_point+j< Width) \n",
        "    { \n",
        "      Pvalue += N[N_start_point+j]*M[j]; \n",
        "    } \n",
        "  }\n",
        "  P[i]=Pvalue; \n",
        "}\n",
        "   \n",
        "int main() { \n",
        "\t\tfloat   *a, *k, *c=0; \n",
        "    const int N = 16;\n",
        "    const int MASK_WIDTH = 5;\n",
        "    const int threadsPerBlock = 4;\n",
        "\n",
        "    float kernel[MASK_WIDTH]={3,4,5,4,3};\n",
        "\n",
        "    // Allocate Unified Memory -- accessible from CPU or GPU\n",
        "    checkCudaErr(cudaMallocManaged(&a, N*sizeof(float)), \"cudaMallocManaged1\");\n",
        "    checkCudaErr(cudaMallocManaged(&c, N*sizeof(float)), \"cudaMallocManaged1\");\n",
        "    checkCudaErr(cudaMallocManaged(&k, MASK_WIDTH*sizeof(float)), \"cudaMallocManaged2\");\n",
        "     \n",
        "    // fill in the memory with data\n",
        "    for (int i=0; i<N; i++) {\n",
        "        a[i] = i+1;\n",
        "        c[i] = 0;\n",
        "        if(i<MASK_WIDTH)\n",
        "            k[i]=kernel[i];\n",
        "    }  \n",
        " \n",
        "    const int blocksPerGrid =  (N / threadsPerBlock);\n",
        " \n",
        "    // Prefetch the data to the GPU\n",
        "    int device = -1;\n",
        "    cudaGetDevice(&device);\n",
        "    cudaMemPrefetchAsync(a, N*sizeof(float), device, NULL);\n",
        "    cudaMemPrefetchAsync(k, MASK_WIDTH*sizeof(float), device, NULL);\n",
        "\n",
        "    convolution_1D_basic_kernel<<<blocksPerGrid,threadsPerBlock>>>(a, k, c, MASK_WIDTH, N);\n",
        "    \n",
        "    cudaDeviceSynchronize();\n",
        " \n",
        "    //output the result\n",
        "    puts(\"Conv1D Result: \");\n",
        "    for(int i=0; i<N; ++i)\n",
        "      printf(\"p[%d] = %3.3f\\n\", i, c[i]);\n",
        "\n",
        "    // free memory on the gpu side\n",
        "    checkCudaErr( cudaFree( a ) , \"cudaFree1\");\n",
        "    checkCudaErr( cudaFree( k ) , \"cudaFree2\");\n",
        "    checkCudaErr( cudaFree( c ) , \"cudaFree3\");\n",
        "\t\tcheckCudaErr( cudaDeviceReset(), \"cudaDeviceReset\");\n",
        "\n",
        "\t\treturn 0;\n",
        "}"
      ],
      "metadata": {
        "colab": {
          "base_uri": "https://localhost:8080/"
        },
        "id": "GYZ627HO-XKd",
        "outputId": "6047fcd1-def7-4690-c823-ad4ea6fcaefa"
      },
      "execution_count": 5,
      "outputs": [
        {
          "output_type": "stream",
          "name": "stdout",
          "text": [
            "Result: \n",
            "p[0] = 22.000\n",
            "p[1] = 38.000\n",
            "p[2] = 57.000\n",
            "p[3] = 76.000\n",
            "p[4] = 95.000\n",
            "p[5] = 114.000\n",
            "p[6] = 133.000\n",
            "p[7] = 152.000\n",
            "p[8] = 171.000\n",
            "p[9] = 190.000\n",
            "p[10] = 209.000\n",
            "p[11] = 228.000\n",
            "p[12] = 247.000\n",
            "p[13] = 266.000\n",
            "p[14] = 234.000\n",
            "p[15] = 182.000\n",
            "\n"
          ]
        }
      ]
    }
  ]
}