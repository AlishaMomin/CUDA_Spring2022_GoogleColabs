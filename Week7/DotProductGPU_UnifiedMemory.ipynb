{
  "nbformat": 4,
  "nbformat_minor": 0,
  "metadata": {
    "colab": {
      "name": "DotProductGPU_UnifiedMemory.ipynb",
      "provenance": [],
      "collapsed_sections": [],
      "authorship_tag": "ABX9TyPANecWcSZo4h7aZMEkJHC/",
      "include_colab_link": true
    },
    "kernelspec": {
      "name": "python3",
      "display_name": "Python 3"
    },
    "language_info": {
      "name": "python"
    },
    "accelerator": "GPU"
  },
  "cells": [
    {
      "cell_type": "markdown",
      "metadata": {
        "id": "view-in-github",
        "colab_type": "text"
      },
      "source": [
        "<a href=\"https://colab.research.google.com/github/mmmovania/CUDA_Spring2022_GoogleColabs/blob/main/Week7/DotProductGPU_UnifiedMemory.ipynb\" target=\"_parent\"><img src=\"https://colab.research.google.com/assets/colab-badge.svg\" alt=\"Open In Colab\"/></a>"
      ]
    },
    {
      "cell_type": "code",
      "execution_count": 1,
      "metadata": {
        "colab": {
          "base_uri": "https://localhost:8080/"
        },
        "id": "OB2MY3st-VUm",
        "outputId": "b80f697a-b3fb-4839-ab56-8dfe13735751"
      },
      "outputs": [
        {
          "output_type": "stream",
          "name": "stdout",
          "text": [
            "/usr/local\n",
            "  File: cuda -> /usr/local/cuda-10.1\n",
            "  Size: 20        \tBlocks: 0          IO Block: 4096   symbolic link\n",
            "Device: 24h/36d\tInode: 4063235     Links: 1\n",
            "Access: (0777/lrwxrwxrwx)  Uid: (    0/    root)   Gid: (    0/    root)\n",
            "Access: 2022-02-25 11:54:32.259864047 +0000\n",
            "Modify: 2022-02-25 11:54:32.157864648 +0000\n",
            "Change: 2022-02-25 11:54:32.157864648 +0000\n",
            " Birth: -\n",
            "Collecting git+https://github.com/andreinechaev/nvcc4jupyter.git\n",
            "  Cloning https://github.com/andreinechaev/nvcc4jupyter.git to /tmp/pip-req-build-9lyomkds\n",
            "  Running command git clone -q https://github.com/andreinechaev/nvcc4jupyter.git /tmp/pip-req-build-9lyomkds\n",
            "Building wheels for collected packages: NVCCPlugin\n",
            "  Building wheel for NVCCPlugin (setup.py) ... \u001b[?25l\u001b[?25hdone\n",
            "  Created wheel for NVCCPlugin: filename=NVCCPlugin-0.0.2-py3-none-any.whl size=4306 sha256=536d70a1bcd0c8f7829478c8e717d0a8bf5248d577c356039e75424e48ea7247\n",
            "  Stored in directory: /tmp/pip-ephem-wheel-cache-nu1gv8sg/wheels/c5/2b/c0/87008e795a14bbcdfc7c846a00d06981916331eb980b6c8bdf\n",
            "Successfully built NVCCPlugin\n",
            "Installing collected packages: NVCCPlugin\n",
            "Successfully installed NVCCPlugin-0.0.2\n",
            "directory /usr/local/src already exists\n",
            "Out bin /usr/local/result.out\n"
          ]
        }
      ],
      "source": [
        "%cd /usr/local/\n",
        "!rm -rf cuda\n",
        "!ln -s /usr/local/cuda-10.1 /usr/local/cuda\n",
        "!stat cuda\n",
        "!pip install git+https://github.com/andreinechaev/nvcc4jupyter.git\n",
        "%load_ext nvcc_plugin"
      ]
    },
    {
      "cell_type": "code",
      "source": [
        "%%cu\n",
        "#include <stdio.h>\n",
        "const int N = 33 * 1024;\n",
        "const int threadsPerBlock = 256;\n",
        "\n",
        "#define imin(a,b) (a<b?a:b)\n",
        "\n",
        "const int blocksPerGrid =  imin( 32, (N+threadsPerBlock-1) / threadsPerBlock );\n",
        "\n",
        "inline cudaError_t checkCudaErr(cudaError_t err, const char* msg) {\n",
        "\tif (err != cudaSuccess) {\n",
        "\t\tfprintf(stderr, \"CUDA Runtime error at %s: %s\\n\", msg, cudaGetErrorString(err));\n",
        "\t}\n",
        "\treturn err;\n",
        "}\n",
        "\n",
        "__global__ void dot( float *a, float *b, float *c ) {\n",
        "\t__shared__ float cache[threadsPerBlock];\n",
        "\tint tid = threadIdx.x + blockIdx.x * blockDim.x;\n",
        "\tint cacheIndex = threadIdx.x;\n",
        "\n",
        "\tfloat   temp = 0;\n",
        "\twhile (tid < N) {\n",
        "\t\ttemp += a[tid] * b[tid];\n",
        "\t\ttid += blockDim.x * gridDim.x;\n",
        "\t}\n",
        "\n",
        "\t// set the cache values\n",
        "\tcache[cacheIndex] = temp;\n",
        "\n",
        "\t// synchronize threads in this block\n",
        "\t__syncthreads();\n",
        "\n",
        "\t// for reductions, threadsPerBlock must be a power of 2\n",
        "\t// because of the following code\n",
        "\tint i = blockDim.x/2;\n",
        "\twhile (i != 0) {\n",
        "\t\tif (cacheIndex < i)\n",
        "\t\t\tcache[cacheIndex] += cache[cacheIndex + i];\n",
        "\t\t__syncthreads();\n",
        "\t\ti /= 2;\n",
        "\t}\n",
        "\n",
        "\tif (cacheIndex == 0)\n",
        "\t\tc[blockIdx.x] = cache[0];\n",
        "}\n",
        "\n",
        "\n",
        "int main() { \n",
        "\tfloat   *a, *b, *partial_c, c=0; \n",
        "\n",
        "\t// Allocate Unified Memory -- accessible from CPU or GPU\n",
        "\tcheckCudaErr(cudaMallocManaged(&a, N*sizeof(float)), \"cudaMallocManaged1\");\n",
        "\tcheckCudaErr(cudaMallocManaged(&b, N*sizeof(float)), \"cudaMallocManaged2\");\n",
        "\tcheckCudaErr(cudaMallocManaged(&partial_c, blocksPerGrid*sizeof(float)), \"cudaMallocManaged3\");\n",
        "\n",
        "\t// fill in the memory with data\n",
        "\tfor (int i=0; i<N; i++) {\n",
        "\t\ta[i] = i;\n",
        "\t\tb[i] = i*2;\n",
        "\t} \n",
        "\n",
        "\tdot<<<blocksPerGrid,threadsPerBlock>>>( a, b,  partial_c );\n",
        "\n",
        "\tcudaDeviceSynchronize();\n",
        "\n",
        "\t// finish up on the CPU side\n",
        "\tc = 0;\n",
        "\tfor (int i=0; i<blocksPerGrid; i++) {\n",
        "\t\tc += partial_c[i];\n",
        "\t}\n",
        "\n",
        "\t#define sum_squares(x)  (x*(x+1)*(2*x+1)/6)\n",
        "\tprintf( \"Does GPU value %.6g = %.6g?\\n\", c, 2 * sum_squares( (float)(N - 1) ) );\n",
        "\n",
        "\t// free memory on the gpu side\n",
        "\tcheckCudaErr( cudaFree( a ) , \"cudaFree1\");\n",
        "\tcheckCudaErr( cudaFree( b ) , \"cudaFree2\");\n",
        "\tcheckCudaErr( cudaFree( partial_c ) , \"cudaFree3\");\n",
        "\tcheckCudaErr( cudaDeviceReset(), \"cudaDeviceReset\");\n",
        "\n",
        "\treturn 0;\n",
        "}"
      ],
      "metadata": {
        "colab": {
          "base_uri": "https://localhost:8080/"
        },
        "id": "GYZ627HO-XKd",
        "outputId": "6b9566d4-414d-4bb7-99bb-96d81b64f819"
      },
      "execution_count": 2,
      "outputs": [
        {
          "output_type": "stream",
          "name": "stdout",
          "text": [
            "Does GPU value 2.57236e+13 = 2.57236e+13?\n",
            "\n"
          ]
        }
      ]
    }
  ]
}
