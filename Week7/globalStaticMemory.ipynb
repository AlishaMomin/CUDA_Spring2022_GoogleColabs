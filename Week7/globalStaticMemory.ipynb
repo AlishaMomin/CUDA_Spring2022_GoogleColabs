{
  "nbformat": 4,
  "nbformat_minor": 0,
  "metadata": {
    "colab": {
      "name": "globalStaticMemory.ipynb",
      "provenance": [],
      "collapsed_sections": [],
      "authorship_tag": "ABX9TyPUmhzZGq6iT4AwFJ3PFzkg",
      "include_colab_link": true
    },
    "kernelspec": {
      "name": "python3",
      "display_name": "Python 3"
    },
    "language_info": {
      "name": "python"
    },
    "accelerator": "GPU"
  },
  "cells": [
    {
      "cell_type": "markdown",
      "metadata": {
        "id": "view-in-github",
        "colab_type": "text"
      },
      "source": [
        "<a href=\"https://colab.research.google.com/github/mmmovania/CUDA_Spring2022_GoogleColabs/blob/main/Week7/globalStaticMemory.ipynb\" target=\"_parent\"><img src=\"https://colab.research.google.com/assets/colab-badge.svg\" alt=\"Open In Colab\"/></a>"
      ]
    },
    {
      "cell_type": "code",
      "execution_count": 3,
      "metadata": {
        "colab": {
          "base_uri": "https://localhost:8080/"
        },
        "id": "kBUHmmqQHOS-",
        "outputId": "ccfa3ca1-f5e6-4513-8d5b-994c95d22f66"
      },
      "outputs": [
        {
          "output_type": "stream",
          "name": "stdout",
          "text": [
            "/usr/local\n",
            "  File: cuda -> /usr/local/cuda-10.1\n",
            "  Size: 20        \tBlocks: 0          IO Block: 4096   symbolic link\n",
            "Device: 23h/35d\tInode: 48          Links: 1\n",
            "Access: (0777/lrwxrwxrwx)  Uid: (    0/    root)   Gid: (    0/    root)\n",
            "Access: 2022-02-21 08:25:03.060671164 +0000\n",
            "Modify: 2022-02-21 08:25:02.950671331 +0000\n",
            "Change: 2022-02-21 08:25:02.950671331 +0000\n",
            " Birth: -\n",
            "Collecting git+git://github.com/andreinechaev/nvcc4jupyter.git\n",
            "  Cloning git://github.com/andreinechaev/nvcc4jupyter.git to /tmp/pip-req-build-bgsp1cfu\n",
            "  Running command git clone -q git://github.com/andreinechaev/nvcc4jupyter.git /tmp/pip-req-build-bgsp1cfu\n",
            "The nvcc_plugin extension is already loaded. To reload it, use:\n",
            "  %reload_ext nvcc_plugin\n"
          ]
        }
      ],
      "source": [
        "%cd /usr/local/\n",
        "!rm -rf cuda\n",
        "!ln -s /usr/local/cuda-10.1 /usr/local/cuda\n",
        "!stat cuda\n",
        "!pip install git+git://github.com/andreinechaev/nvcc4jupyter.git\n",
        "%load_ext nvcc_plugin"
      ]
    },
    {
      "cell_type": "code",
      "source": [
        "%%cu\n",
        "#include <stdio.h>\n",
        "\n",
        "__device__ float devData;\n",
        "\n",
        "__global__ void checkGlobalVariable() {\n",
        "   // display the original value\n",
        "   printf(\"Device: the value of the global variable is %f\\n\",devData);\n",
        "\n",
        "   // alter the value\n",
        "   devData +=2.0f;\n",
        "}\n",
        "\n",
        "int main(void) {\n",
        "   // initialize the global variable\n",
        "   float value = 3.14f;\n",
        "   cudaMemcpyToSymbol(devData, &value, sizeof(float));\n",
        "   printf(\"Host: copied %f to the global variable\\n\", value);\n",
        "   // invoke the kernel\n",
        "   checkGlobalVariable <<<1, 1>>>();\n",
        "   // copy the global variable back to the host\n",
        "   cudaMemcpyFromSymbol(&value, devData, sizeof(float));\n",
        "   printf(\"Host: the value changed by the kernel to %f\\n\", value);\n",
        "   cudaDeviceReset();\n",
        "   return 0;\n",
        "}"
      ],
      "metadata": {
        "colab": {
          "base_uri": "https://localhost:8080/"
        },
        "id": "P71PB1boHhgz",
        "outputId": "0ef54b65-7514-429e-e5df-2f09282322d8"
      },
      "execution_count": 5,
      "outputs": [
        {
          "output_type": "stream",
          "name": "stdout",
          "text": [
            "Host: copied 3.140000 to the global variable\n",
            "Device: the value of the global variable is 3.140000\n",
            "Host: the value changed by the kernel to 5.140000\n",
            "\n"
          ]
        }
      ]
    }
  ]
}