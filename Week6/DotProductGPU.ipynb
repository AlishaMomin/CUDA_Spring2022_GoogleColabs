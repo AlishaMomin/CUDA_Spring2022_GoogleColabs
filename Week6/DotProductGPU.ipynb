{
  "nbformat": 4,
  "nbformat_minor": 0,
  "metadata": {
    "colab": {
      "name": "DotProductGPU.ipynb",
      "provenance": [],
      "collapsed_sections": [],
      "authorship_tag": "ABX9TyNbw/5MSK5vAiFaIuuZwCDj",
      "include_colab_link": true
    },
    "kernelspec": {
      "name": "python3",
      "display_name": "Python 3"
    },
    "language_info": {
      "name": "python"
    },
    "accelerator": "GPU"
  },
  "cells": [
    {
      "cell_type": "markdown",
      "metadata": {
        "id": "view-in-github",
        "colab_type": "text"
      },
      "source": [
        "<a href=\"https://colab.research.google.com/github/mmmovania/CUDA_Spring2022_GoogleColabs/blob/main/Week6/DotProductGPU.ipynb\" target=\"_parent\"><img src=\"https://colab.research.google.com/assets/colab-badge.svg\" alt=\"Open In Colab\"/></a>"
      ]
    },
    {
      "cell_type": "code",
      "execution_count": 1,
      "metadata": {
        "colab": {
          "base_uri": "https://localhost:8080/"
        },
        "id": "OB2MY3st-VUm",
        "outputId": "11464862-05a3-42a6-bc0b-4836fd000f9a"
      },
      "outputs": [
        {
          "output_type": "stream",
          "name": "stdout",
          "text": [
            "/usr/local\n",
            "  File: cuda -> /usr/local/cuda-10.1\n",
            "  Size: 20        \tBlocks: 0          IO Block: 4096   symbolic link\n",
            "Device: 24h/36d\tInode: 21          Links: 1\n",
            "Access: (0777/lrwxrwxrwx)  Uid: (    0/    root)   Gid: (    0/    root)\n",
            "Access: 2022-02-21 07:35:47.716149897 +0000\n",
            "Modify: 2022-02-21 07:35:47.599150373 +0000\n",
            "Change: 2022-02-21 07:35:47.599150373 +0000\n",
            " Birth: -\n",
            "Collecting git+git://github.com/andreinechaev/nvcc4jupyter.git\n",
            "  Cloning git://github.com/andreinechaev/nvcc4jupyter.git to /tmp/pip-req-build-n2fhvdy2\n",
            "  Running command git clone -q git://github.com/andreinechaev/nvcc4jupyter.git /tmp/pip-req-build-n2fhvdy2\n",
            "Building wheels for collected packages: NVCCPlugin\n",
            "  Building wheel for NVCCPlugin (setup.py) ... \u001b[?25l\u001b[?25hdone\n",
            "  Created wheel for NVCCPlugin: filename=NVCCPlugin-0.0.2-py3-none-any.whl size=4306 sha256=a2ad02149bcec80760720982c7bc35a0bc8544154d9690e3d2043eca821aca80\n",
            "  Stored in directory: /tmp/pip-ephem-wheel-cache-x4e9at8c/wheels/c5/2b/c0/87008e795a14bbcdfc7c846a00d06981916331eb980b6c8bdf\n",
            "Successfully built NVCCPlugin\n",
            "Installing collected packages: NVCCPlugin\n",
            "Successfully installed NVCCPlugin-0.0.2\n",
            "directory /usr/local/src already exists\n",
            "Out bin /usr/local/result.out\n"
          ]
        }
      ],
      "source": [
        "%cd /usr/local/\n",
        "!rm -rf cuda\n",
        "!ln -s /usr/local/cuda-10.1 /usr/local/cuda\n",
        "!stat cuda\n",
        "!pip install git+git://github.com/andreinechaev/nvcc4jupyter.git\n",
        "%load_ext nvcc_plugin"
      ]
    },
    {
      "cell_type": "code",
      "source": [
        "%%cu\n",
        "#include <stdio.h>\n",
        "const int N = 33 * 1024;\n",
        "const int threadsPerBlock = 256;\n",
        "\n",
        "#define imin(a,b) (a<b?a:b)\n",
        "\n",
        "const int blocksPerGrid =  imin( 32, (N+threadsPerBlock-1) / threadsPerBlock );\n",
        "\n",
        "inline cudaError_t checkCudaErr(cudaError_t err, const char* msg) {\n",
        "  if (err != cudaSuccess) {\n",
        "    fprintf(stderr, \"CUDA Runtime error at %s: %s\\n\", msg, cudaGetErrorString(err));\n",
        "  }\n",
        "  return err;\n",
        "}\n",
        "\n",
        "__global__ void dot( float *a, float *b, float *c ) {\n",
        "    __shared__ float cache[threadsPerBlock];\n",
        "    int tid = threadIdx.x + blockIdx.x * blockDim.x;\n",
        "    int cacheIndex = threadIdx.x;\n",
        "\n",
        "    float   temp = 0;\n",
        "    while (tid < N) {\n",
        "        temp += a[tid] * b[tid];\n",
        "        tid += blockDim.x * gridDim.x;\n",
        "    }\n",
        "    \n",
        "    // set the cache values\n",
        "    cache[cacheIndex] = temp;\n",
        "    \n",
        "    // synchronize threads in this block\n",
        "    __syncthreads();\n",
        "\n",
        "    // for reductions, threadsPerBlock must be a power of 2\n",
        "    // because of the following code\n",
        "    int i = blockDim.x/2;\n",
        "    while (i != 0) {\n",
        "        if (cacheIndex < i)\n",
        "            cache[cacheIndex] += cache[cacheIndex + i];\n",
        "        __syncthreads();\n",
        "        i /= 2;\n",
        "    }\n",
        "\n",
        "    if (cacheIndex == 0)\n",
        "        c[blockIdx.x] = cache[0];\n",
        "}\n",
        "  \n",
        "\n",
        "int main() { \n",
        "\t\tfloat   *a, *b, c, *partial_c;\n",
        "    float   *dev_a, *dev_b, *dev_partial_c;\n",
        "\n",
        "    // allocate memory on the cpu side\n",
        "    a = (float*)malloc( N*sizeof(float) );\n",
        "    b = (float*)malloc( N*sizeof(float) );\n",
        "    partial_c = (float*)malloc( blocksPerGrid*sizeof(float) );\n",
        "\n",
        "    // allocate the memory on the GPU\n",
        "    checkCudaErr( cudaMalloc( (void**)&dev_a,\n",
        "                              N*sizeof(float) ) , \"cudaMalloc1\");\n",
        "    checkCudaErr( cudaMalloc( (void**)&dev_b,\n",
        "                              N*sizeof(float) ) , \"cudaMalloc2\");\n",
        "    checkCudaErr( cudaMalloc( (void**)&dev_partial_c,\n",
        "                              blocksPerGrid*sizeof(float) ) , \"cudaMalloc3\");\n",
        "\n",
        "    // fill in the host memory with data\n",
        "    for (int i=0; i<N; i++) {\n",
        "        a[i] = i;\n",
        "        b[i] = i*2;\n",
        "    }\n",
        "\n",
        "    // copy the arrays 'a' and 'b' to the GPU\n",
        "    checkCudaErr( cudaMemcpy( dev_a, a, N*sizeof(float),\n",
        "                              cudaMemcpyHostToDevice ), \"cudaMemCpy1\" );\n",
        "    checkCudaErr( cudaMemcpy( dev_b, b, N*sizeof(float),\n",
        "                              cudaMemcpyHostToDevice ) , \"cudaMemCpy2\"); \n",
        "\n",
        "    dot<<<blocksPerGrid,threadsPerBlock>>>( dev_a, dev_b,\n",
        "                                            dev_partial_c );\n",
        "\n",
        "    // copy the array 'c' back from the GPU to the CPU\n",
        "    checkCudaErr( cudaMemcpy( partial_c, dev_partial_c,\n",
        "                              blocksPerGrid*sizeof(float),\n",
        "                              cudaMemcpyDeviceToHost ), \"cudaMemCpy3\" );\n",
        "\n",
        "    // finish up on the CPU side\n",
        "    c = 0;\n",
        "    for (int i=0; i<blocksPerGrid; i++) {\n",
        "        c += partial_c[i];\n",
        "    }\n",
        "\n",
        "    #define sum_squares(x)  (x*(x+1)*(2*x+1)/6)\n",
        "    printf( \"Does GPU value %.6g = %.6g?\\n\", c,\n",
        "             2 * sum_squares( (float)(N - 1) ) );\n",
        "\n",
        "    // free memory on the gpu side\n",
        "    checkCudaErr( cudaFree( dev_a ) , \"cudaFree1\");\n",
        "    checkCudaErr( cudaFree( dev_b ) , \"cudaFree2\");\n",
        "    checkCudaErr( cudaFree( dev_partial_c ) , \"cudaFree3\");\n",
        "\n",
        "    // free memory on the cpu side\n",
        "    free( a );\n",
        "    free( b );\n",
        "    free( partial_c );\n",
        "\n",
        "\t\tcudaDeviceReset();\n",
        "\t\treturn 0;\n",
        "}"
      ],
      "metadata": {
        "colab": {
          "base_uri": "https://localhost:8080/"
        },
        "id": "GYZ627HO-XKd",
        "outputId": "a058cd5b-6f57-464c-f5c7-22470b397cfa"
      },
      "execution_count": 6,
      "outputs": [
        {
          "output_type": "stream",
          "name": "stdout",
          "text": [
            "Does GPU value 2.57236e+13 = 2.57236e+13?\n",
            "\n"
          ]
        }
      ]
    }
  ]
}