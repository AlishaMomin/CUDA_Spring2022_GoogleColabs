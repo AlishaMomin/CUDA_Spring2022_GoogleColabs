{
  "nbformat": 4,
  "nbformat_minor": 0,
  "metadata": {
    "colab": {
      "name": "Simple2D.ipynb",
      "provenance": [],
      "authorship_tag": "ABX9TyObZN8lNVEs1YfCrTA3R20X",
      "include_colab_link": true
    },
    "kernelspec": {
      "name": "python3",
      "display_name": "Python 3"
    },
    "language_info": {
      "name": "python"
    },
    "accelerator": "GPU"
  },
  "cells": [
    {
      "cell_type": "markdown",
      "metadata": {
        "id": "view-in-github",
        "colab_type": "text"
      },
      "source": [
        "<a href=\"https://colab.research.google.com/github/mmmovania/CUDA_Spring2022_GoogleColabs/blob/main/Week4/Simple2D.ipynb\" target=\"_parent\"><img src=\"https://colab.research.google.com/assets/colab-badge.svg\" alt=\"Open In Colab\"/></a>"
      ]
    },
    {
      "cell_type": "code",
      "execution_count": 1,
      "metadata": {
        "colab": {
          "base_uri": "https://localhost:8080/"
        },
        "id": "NEC1YQlf9uiU",
        "outputId": "db9e1711-c6b6-4d30-9a44-50318b8e6a2b"
      },
      "outputs": [
        {
          "output_type": "stream",
          "name": "stdout",
          "text": [
            "/usr/local\n",
            "  File: cuda -> /usr/local/cuda-10.1\n",
            "  Size: 20        \tBlocks: 0          IO Block: 4096   symbolic link\n",
            "Device: 24h/36d\tInode: 3145738     Links: 1\n",
            "Access: (0777/lrwxrwxrwx)  Uid: (    0/    root)   Gid: (    0/    root)\n",
            "Access: 2022-02-01 11:09:21.662804835 +0000\n",
            "Modify: 2022-02-01 11:09:21.554797203 +0000\n",
            "Change: 2022-02-01 11:09:21.554797203 +0000\n",
            " Birth: -\n",
            "Collecting git+git://github.com/andreinechaev/nvcc4jupyter.git\n",
            "  Cloning git://github.com/andreinechaev/nvcc4jupyter.git to /tmp/pip-req-build-9jbc_qbm\n",
            "  Running command git clone -q git://github.com/andreinechaev/nvcc4jupyter.git /tmp/pip-req-build-9jbc_qbm\n",
            "Building wheels for collected packages: NVCCPlugin\n",
            "  Building wheel for NVCCPlugin (setup.py) ... \u001b[?25l\u001b[?25hdone\n",
            "  Created wheel for NVCCPlugin: filename=NVCCPlugin-0.0.2-py3-none-any.whl size=4306 sha256=06ad8f142d7c7aa047022f76892d265df7058a37c5ff2d531930c8e9c79b8843\n",
            "  Stored in directory: /tmp/pip-ephem-wheel-cache-b5xkw844/wheels/c5/2b/c0/87008e795a14bbcdfc7c846a00d06981916331eb980b6c8bdf\n",
            "Successfully built NVCCPlugin\n",
            "Installing collected packages: NVCCPlugin\n",
            "Successfully installed NVCCPlugin-0.0.2\n",
            "directory /usr/local/src already exists\n",
            "Out bin /usr/local/result.out\n"
          ]
        }
      ],
      "source": [
        "#prepare setup of cuda plugin for jupyter notebook\n",
        "%cd /usr/local/\n",
        "!rm -rf cuda\n",
        "!ln -s /usr/local/cuda-10.1 /usr/local/cuda\n",
        "!stat cuda\n",
        "!pip install git+git://github.com/andreinechaev/nvcc4jupyter.git\n",
        "%load_ext nvcc_plugin"
      ]
    },
    {
      "cell_type": "code",
      "source": [
        "%%cu\n",
        "//Taken from: https://code.google.com/p/stanford-cs193g-sp2010/wiki/TutorialMultidimensionalKernelLaunch\n",
        "\n",
        "#include <stdlib.h>\n",
        "#include <stdio.h>\n",
        "\n",
        "__global__ void kernel(int *array)\n",
        "{\n",
        "  int index_x = blockIdx.x * blockDim.x + threadIdx.x;\n",
        "  int index_y = blockIdx.y * blockDim.y + threadIdx.y;\n",
        "\n",
        "  // map the two 2D indices to a single linear, 1D index\n",
        "  int grid_width = gridDim.x * blockDim.x;\n",
        "  int index = index_y * grid_width + index_x;\n",
        "\n",
        "  // map the two 2D block indices to a single linear, 1D block index\n",
        "  int result = blockIdx.y * gridDim.x + blockIdx.x;\n",
        "\n",
        "  // write out the result\n",
        "  array[index] = result;\n",
        "}\n",
        "\n",
        "int main(void)\n",
        "{\n",
        "  int num_elements_x = 16;\n",
        "  int num_elements_y = 16;\n",
        "\n",
        "  int num_bytes = num_elements_x * num_elements_y * sizeof(int);\n",
        "\n",
        "  int *device_array = 0;\n",
        "  int *host_array = 0;\n",
        "\n",
        "  // allocate memory in either space\n",
        "  host_array = (int*)malloc(num_bytes);\n",
        "  cudaMalloc((void**)&device_array, num_bytes);\n",
        "\n",
        "  // create two dimensional 4x4 thread blocks\n",
        "  dim3 block_size;\n",
        "  block_size.x = 4;\n",
        "  block_size.y = 4;\n",
        "\n",
        "  // configure a two dimensional grid as well\n",
        "  dim3 grid_size;\n",
        "  grid_size.x = num_elements_x / block_size.x;\n",
        "  grid_size.y = num_elements_y / block_size.y;\n",
        "\n",
        "  // grid_size & block_size are passed as arguments to the triple chevrons as usual\n",
        "  kernel<<<grid_size,block_size>>>(device_array);\n",
        "\n",
        "  // download and inspect the result on the host:\n",
        "  cudaMemcpy(host_array, device_array, num_bytes, cudaMemcpyDeviceToHost);\n",
        "\n",
        "  // print out the result element by element\n",
        "  for(int row = 0; row < num_elements_y; ++row)\n",
        "  {\n",
        "    for(int col = 0; col < num_elements_x; ++col)\n",
        "    {\n",
        "      printf(\"%2d \", host_array[row * num_elements_x + col]);\n",
        "    }\n",
        "    printf(\"\\n\");\n",
        "  }\n",
        "  printf(\"\\n\");\n",
        "\n",
        "  // deallocate memory\n",
        "  free(host_array);\n",
        "  cudaFree(device_array);\n",
        "}"
      ],
      "metadata": {
        "colab": {
          "base_uri": "https://localhost:8080/"
        },
        "id": "prZ5rRtQ91Lu",
        "outputId": "500b21bb-ef56-44b9-98a7-8552b0b096e0"
      },
      "execution_count": 2,
      "outputs": [
        {
          "output_type": "stream",
          "name": "stdout",
          "text": [
            " 0  0  0  0  1  1  1  1  2  2  2  2  3  3  3  3 \n",
            " 0  0  0  0  1  1  1  1  2  2  2  2  3  3  3  3 \n",
            " 0  0  0  0  1  1  1  1  2  2  2  2  3  3  3  3 \n",
            " 0  0  0  0  1  1  1  1  2  2  2  2  3  3  3  3 \n",
            " 4  4  4  4  5  5  5  5  6  6  6  6  7  7  7  7 \n",
            " 4  4  4  4  5  5  5  5  6  6  6  6  7  7  7  7 \n",
            " 4  4  4  4  5  5  5  5  6  6  6  6  7  7  7  7 \n",
            " 4  4  4  4  5  5  5  5  6  6  6  6  7  7  7  7 \n",
            " 8  8  8  8  9  9  9  9 10 10 10 10 11 11 11 11 \n",
            " 8  8  8  8  9  9  9  9 10 10 10 10 11 11 11 11 \n",
            " 8  8  8  8  9  9  9  9 10 10 10 10 11 11 11 11 \n",
            " 8  8  8  8  9  9  9  9 10 10 10 10 11 11 11 11 \n",
            "12 12 12 12 13 13 13 13 14 14 14 14 15 15 15 15 \n",
            "12 12 12 12 13 13 13 13 14 14 14 14 15 15 15 15 \n",
            "12 12 12 12 13 13 13 13 14 14 14 14 15 15 15 15 \n",
            "12 12 12 12 13 13 13 13 14 14 14 14 15 15 15 15 \n",
            "\n",
            "\n"
          ]
        }
      ]
    }
  ]
}